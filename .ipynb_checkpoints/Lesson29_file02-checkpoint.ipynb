{
 "cells": [
  {
   "cell_type": "markdown",
   "metadata": {
    "collapsed": false,
    "jupyter": {
     "outputs_hidden": false
    }
   },
   "source": [
    "**Рішення завдання №2**\n",
    "\n",
    "Випадкова величина $X$ розподілена рівномірно. Знайти щільність її розподілу, якщо $P(X \\geq 3)=0.4$, а математичне сподівання $M(X)=2$\n",
    "\n",
    "1. Щільність розподілу $(a, b)$\n",
    "\n",
    "$$\\left\\{\\begin{matrix}\n",
    "0, & x \\leq a\n",
    "\\\\\n",
    "\\frac{1}{b−a}, & a<x\\leq b\n",
    "\\\\\n",
    "0, & x > b\n",
    "\\end{matrix}\\right. $$\n",
    "\n",
    "2. Ймовірність потрапляння випадкової рівномірної величини у інтервал $(c, d)$:\n",
    "\n",
    "$$P(c < X < d) = \\frac{d-c}{b-a} = 0.4$$\n",
    "\n",
    "3. Математичне сподівання: $$M(X) = \\frac{a+b}{2}$$\n",
    "\n",
    "Оскільки $c=3$, а $d=b$, тоді необхідно вирішити систему рівнянь:\n",
    "$$\\left\\{\\begin{matrix}\\frac{b-3}{b-a} = 0,4\n",
    "\\\\\n",
    "\\frac{a+b}{2} = 2\n",
    "\\end{matrix}\\right. $$\n",
    "\n",
    "Приведемо систему рівнянь до лінійного вигляду:\n",
    "$$\\left\\{\\begin{matrix}\n",
    "0.4a + 0.6b = 3\n",
    "\\\\\n",
    "a + b = 4\n",
    "\\end{matrix}\\right. $$\n",
    "\n",
    "Тоді:"
   ]
  },
  {
   "cell_type": "code",
   "execution_count": 8,
   "metadata": {
    "collapsed": false,
    "jupyter": {
     "outputs_hidden": false
    }
   },
   "outputs": [
    {
     "name": "stdout",
     "output_type": "stream",
     "text": [
      "Значення a = -3.0, b = 7.0\n"
     ]
    }
   ],
   "source": [
    "import numpy as np\n",
    "\n",
    "left_side = np.array([[0.4, 0.6], [1, 1]])\n",
    "right_side = np.array([3, 4])\n",
    "\n",
    "a, b = np.linalg.inv(left_side).dot(right_side)\n",
    "\n",
    "print(f'Значення a = {round(a, 2)}, b = {round(b, 2)}')"
   ]
  },
  {
   "cell_type": "markdown",
   "metadata": {
    "collapsed": false,
    "jupyter": {
     "outputs_hidden": false
    }
   },
   "source": [
    "В такому випадку щільність розподілу набуває вигляду:\n",
    "$$\\left\\{\\begin{matrix}\n",
    "0, & x \\leq -3\n",
    "\\\\\n",
    "\\frac{1}{7−(-3)}, & -3<x\\leq 7\n",
    "\\\\\n",
    "0, & x > 7\n",
    "\\end{matrix}\\right. $$\n",
    "\n",
    "**Відповідь:** на інтервалі $-3 < x \\leq 7$ щільність розподілу випадкової величини $X$ буде дорівнювати $0.1$."
   ]
  }
 ],
 "metadata": {
  "kernelspec": {
   "display_name": "Python 3 (ipykernel)",
   "language": "python",
   "name": "python3"
  },
  "language_info": {
   "codemirror_mode": {
    "name": "ipython",
    "version": 3
   },
   "file_extension": ".py",
   "mimetype": "text/x-python",
   "name": "python",
   "nbconvert_exporter": "python",
   "pygments_lexer": "ipython3",
   "version": "3.10.11"
  }
 },
 "nbformat": 4,
 "nbformat_minor": 4
}
